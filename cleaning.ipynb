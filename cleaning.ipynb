{
 "cells": [
  {
   "cell_type": "code",
   "execution_count": null,
   "metadata": {},
   "outputs": [],
   "source": [
    "#This notebook is used to clean the dataset and make new csv files for designing the model"
   ]
  },
  {
   "cell_type": "code",
   "execution_count": 12,
   "metadata": {},
   "outputs": [],
   "source": [
    "import numpy as np\n",
    "import matplotlib as m\n",
    "import tensorflow as tf\n",
    "import pandas as pd\n"
   ]
  },
  {
   "cell_type": "code",
   "execution_count": 13,
   "metadata": {},
   "outputs": [],
   "source": [
    "#loading data-sets\n",
    "covid_train=pd.read_csv(\"Train.csv\")\n",
    "covid_test=pd.read_csv(\"Test.csv\")"
   ]
  },
  {
   "cell_type": "code",
   "execution_count": 14,
   "metadata": {},
   "outputs": [],
   "source": [
    "#Clean the datasets\n",
    "drop_labels=['Pre-existing symptoms'] #Since data shows NaN\n",
    "covid_train=covid_train.drop(drop_labels,axis=1)\n",
    "covid_test=covid_test.drop(drop_labels,axis=1)\n"
   ]
  },
  {
   "cell_type": "code",
   "execution_count": 15,
   "metadata": {},
   "outputs": [],
   "source": [
    "#Map yes to 1 and No to 0 in family history column\n",
    "covid_train['family history']=covid_train['family history'].map({\"Yes\":1,\"No\":0})\n",
    "covid_test['family history']=covid_test['family history'].map({\"Yes\":1,\"No\":0})"
   ]
  },
  {
   "cell_type": "code",
   "execution_count": 16,
   "metadata": {},
   "outputs": [],
   "source": [
    "#Scaling region\n",
    "scaling={\"Americas\":0,\"Europe\":1,\"East Mediterranean\":2,\"Africa\":3}\n",
    "covid_train['Region']=covid_train['Region'].map(scaling)\n",
    "covid_test['Region']=covid_test['Region'].map(scaling)\n"
   ]
  },
  {
   "cell_type": "code",
   "execution_count": 17,
   "metadata": {},
   "outputs": [],
   "source": [
    "#Normalize age\n",
    "covid_train['Age']=(covid_train['Age']-covid_train['Age'].min())/(covid_train['Age'].max()-covid_train['Age'].min())\n",
    "covid_test['Age']=(covid_test['Age']-covid_test['Age'].min())/(covid_test[\"Age\"].max()-covid_test['Age'].min())\n"
   ]
  },
  {
   "cell_type": "code",
   "execution_count": 18,
   "metadata": {},
   "outputs": [],
   "source": [
    "#Scale symptoms from 0 to 1\n",
    "symptoms=[\"Cough\",\"Shortness of breath\",\"Fatigue\",\"body aches\",\"Headache\",\"Loss of taste\",\"Loss of smell\",\"Nausea\",\"Diarrhea\",\"Misc Symptom 1\",\"Congestion\",\"Sore throat\",\"Misc Symptom 2\",\"Misc Symptom 3\",\"Misc Symptom 4\",\"Misc Symptom 5\",\"Misc Symptom 6\",\"Misc Symptom 7\"]\n",
    "for i in symptoms:\n",
    "    covid_train[i]=(covid_train[i]-covid_train[i].min())/(covid_train[i].max()-covid_train[i].min())\n",
    "    covid_test[i]=(covid_test[i]-covid_test[i].min())/(covid_test[i].max()-covid_test[i].min())"
   ]
  },
  {
   "cell_type": "code",
   "execution_count": 19,
   "metadata": {},
   "outputs": [],
   "source": [
    "#Remove rows with null values\n",
    "covid_train=covid_train.dropna()\n",
    "covid_test=covid_test.dropna()\n"
   ]
  },
  {
   "cell_type": "code",
   "execution_count": 20,
   "metadata": {},
   "outputs": [],
   "source": [
    "#Variants scale\n",
    "mapping={'Variant 1':0,'Variant 2':1,\"Variant 3\":2,\"Variant 4\":3,\"Variant 5\":4,\"Variant 6\":5}\n",
    "covid_train['Variant']=covid_train['Variant'].map(mapping)"
   ]
  },
  {
   "cell_type": "code",
   "execution_count": 21,
   "metadata": {},
   "outputs": [],
   "source": [
    "#Create new csv files for cleaned dataset\n",
    "covid_train.to_csv(\"Train_cleaned.csv\")\n",
    "covid_test.to_csv(\"Test_cleaned.csv\")"
   ]
  },
  {
   "cell_type": "code",
   "execution_count": null,
   "metadata": {},
   "outputs": [],
   "source": []
  }
 ],
 "metadata": {
  "kernelspec": {
   "display_name": "Python 3.10.4 64-bit",
   "language": "python",
   "name": "python3"
  },
  "language_info": {
   "codemirror_mode": {
    "name": "ipython",
    "version": 3
   },
   "file_extension": ".py",
   "mimetype": "text/x-python",
   "name": "python",
   "nbconvert_exporter": "python",
   "pygments_lexer": "ipython3",
   "version": "3.10.4"
  },
  "orig_nbformat": 4,
  "vscode": {
   "interpreter": {
    "hash": "9c84c87d5ed8b88b4d975f19f16aecae199ea54c2a8afa1e4e64bee468faecae"
   }
  }
 },
 "nbformat": 4,
 "nbformat_minor": 2
}
