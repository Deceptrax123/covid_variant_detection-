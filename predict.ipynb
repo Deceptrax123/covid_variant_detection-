{
 "cells": [
  {
   "cell_type": "code",
   "execution_count": 45,
   "metadata": {},
   "outputs": [],
   "source": [
    "#Predict the values for test data set and  get the confusion matrix\n",
    "\n",
    "import numpy as np\n",
    "import tensorflow as tf\n",
    "import matplotlib.pyplot as plt\n",
    "import pandas as pd\n",
    "from sklearn.metrics import confusion_matrix"
   ]
  },
  {
   "cell_type": "code",
   "execution_count": 46,
   "metadata": {},
   "outputs": [],
   "source": [
    "model=tf.keras.models.load_model('saved_model/covid_7') #Import saved model\n"
   ]
  },
  {
   "cell_type": "code",
   "execution_count": 47,
   "metadata": {},
   "outputs": [
    {
     "name": "stdout",
     "output_type": "stream",
     "text": [
      "Model: \"sequential_2\"\n",
      "_________________________________________________________________\n",
      " Layer (type)                Output Shape              Param #   \n",
      "=================================================================\n",
      " dense_5 (Dense)             (None, 35)                770       \n",
      "                                                                 \n",
      " dropout_4 (Dropout)         (None, 35)                0         \n",
      "                                                                 \n",
      " dense_6 (Dense)             (None, 55)                1980      \n",
      "                                                                 \n",
      " dropout_5 (Dropout)         (None, 55)                0         \n",
      "                                                                 \n",
      " dense_7 (Dense)             (None, 45)                2520      \n",
      "                                                                 \n",
      " dropout_6 (Dropout)         (None, 45)                0         \n",
      "                                                                 \n",
      " dense_8 (Dense)             (None, 35)                1610      \n",
      "                                                                 \n",
      " dropout_7 (Dropout)         (None, 35)                0         \n",
      "                                                                 \n",
      " dense_9 (Dense)             (None, 6)                 216       \n",
      "                                                                 \n",
      "=================================================================\n",
      "Total params: 7,096\n",
      "Trainable params: 7,096\n",
      "Non-trainable params: 0\n",
      "_________________________________________________________________\n"
     ]
    }
   ],
   "source": [
    "model.summary()"
   ]
  },
  {
   "cell_type": "code",
   "execution_count": 48,
   "metadata": {},
   "outputs": [],
   "source": [
    "covid_test=pd.read_csv(\"Test_cleaned.csv\")"
   ]
  },
  {
   "cell_type": "code",
   "execution_count": 49,
   "metadata": {},
   "outputs": [],
   "source": [
    "labels=['ID',\"Unnamed: 0\"]\n",
    "covid_model=covid_test.drop(labels,axis=1) #drop columns like ID, unnamed "
   ]
  },
  {
   "cell_type": "code",
   "execution_count": 50,
   "metadata": {},
   "outputs": [],
   "source": [
    "predictions=model.predict(covid_model) #make predictions for the test dataset"
   ]
  },
  {
   "cell_type": "code",
   "execution_count": 51,
   "metadata": {},
   "outputs": [],
   "source": [
    "#Convert prediction probabilities to covid variant numbers\n",
    "variants=[]\n",
    "for i in range(0,len(predictions)):\n",
    "    max=np.max(predictions[i])\n",
    "    for j in range(0,6):\n",
    "        if(predictions[i][j]==max):\n",
    "            index=j+1\n",
    "            break\n",
    "    variants.append(\"Variant \"+str(index))"
   ]
  },
  {
   "cell_type": "code",
   "execution_count": 52,
   "metadata": {},
   "outputs": [],
   "source": [
    "#Create pandas dataframe\n",
    "data={\n",
    "    'ID':covid_test['ID'],\n",
    "    'Variant':variants\n",
    "}\n",
    "\n",
    "df=pd.DataFrame(data)\n"
   ]
  },
  {
   "cell_type": "code",
   "execution_count": 53,
   "metadata": {},
   "outputs": [],
   "source": [
    "#Create csv file for final predictions and final submission.\n",
    "df.to_csv(\"Submission_7.csv\")"
   ]
  },
  {
   "cell_type": "code",
   "execution_count": 54,
   "metadata": {},
   "outputs": [],
   "source": [
    "#Confusion Matrix for training set\n",
    "\n",
    "covid_train=pd.read_csv('Train_cleaned.csv')\n",
    "covid_train_matrix=covid_train.drop(['ID','Variant','Unnamed: 0'],axis=1)\n",
    "\n",
    "prediction_probs=model.predict(covid_train_matrix)\n",
    "#prediction values changed from one-hot encoding to a linear vector\n",
    "predictions_train=[]\n",
    "for i in range(0,len(prediction_probs)):\n",
    "    max=np.max(prediction_probs[i])\n",
    "    for j in range(0,6):\n",
    "        if(prediction_probs[i][j]==max):\n",
    "            index=j\n",
    "            break\n",
    "    predictions_train.append(index)"
   ]
  },
  {
   "cell_type": "code",
   "execution_count": 55,
   "metadata": {},
   "outputs": [],
   "source": [
    "matrix=confusion_matrix(np.array(covid_train['Variant']),predictions_train) #Get the confusion matrix"
   ]
  },
  {
   "cell_type": "code",
   "execution_count": 56,
   "metadata": {},
   "outputs": [
    {
     "name": "stdout",
     "output_type": "stream",
     "text": [
      "[[166   0   0   0   0   0]\n",
      " [  0 101   0   2   0   0]\n",
      " [  0   0  44   3   0   0]\n",
      " [  0   0   0  36   0   0]\n",
      " [  0   0   0   0  27   0]\n",
      " [  0   0   0   0   0  11]]\n"
     ]
    }
   ],
   "source": [
    "print(matrix)"
   ]
  },
  {
   "cell_type": "code",
   "execution_count": 44,
   "metadata": {},
   "outputs": [
    {
     "data": {
      "text/plain": [
       "<matplotlib.image.AxesImage at 0x1e505692e00>"
      ]
     },
     "execution_count": 44,
     "metadata": {},
     "output_type": "execute_result"
    },
    {
     "data": {
      "image/png": "[encoded data removed]",
      "text/plain": [
       "<Figure size 432x288 with 1 Axes>"
      ]
     },
     "metadata": {
      "needs_background": "light"
     },
     "output_type": "display_data"
    }
   ],
   "source": [
    "#Visualize the confusion matrix\n",
    "plt.imshow(matrix, cmap='hot', interpolation='nearest')"
   ]
  },
  {
   "cell_type": "code",
   "execution_count": null,
   "metadata": {},
   "outputs": [],
   "source": [
    "#The image shows that the model is confused about very few labels as the colors\n",
    "#as the image color around the diagnol of the matrix is almost of the same intensity."
   ]
  }
 ],
 "metadata": {
  "kernelspec": {
   "display_name": "Python 3.10.4 64-bit",
   "language": "python",
   "name": "python3"
  },
  "language_info": {
   "codemirror_mode": {
    "name": "ipython",
    "version": 3
   },
   "file_extension": ".py",
   "mimetype": "text/x-python",
   "name": "python",
   "nbconvert_exporter": "python",
   "pygments_lexer": "ipython3",
   "version": "3.10.4"
  },
  "orig_nbformat": 4,
  "vscode": {
   "interpreter": {
    "hash": "9c84c87d5ed8b88b4d975f19f16aecae199ea54c2a8afa1e4e64bee468faecae"
   }
  }
 },
 "nbformat": 4,
 "nbformat_minor": 2
}
